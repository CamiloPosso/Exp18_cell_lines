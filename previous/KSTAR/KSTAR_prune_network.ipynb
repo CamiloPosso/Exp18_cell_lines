{
 "cells": [
  {
   "attachments": {},
   "cell_type": "markdown",
   "metadata": {},
   "source": [
    "PhosphoPICK input"
   ]
  },
  {
   "cell_type": "code",
   "execution_count": 1,
   "metadata": {},
   "outputs": [],
   "source": [
    "import pandas as pd\n",
    "from kstar.prune import run_pruning, save_pruning, save_run_information, Pruner\n",
    "from kstar import config, helpers\n",
    "\n",
    "log = helpers.get_logger('kstar_log', \"pruning.log\")\n",
    "#set other parameters \n",
    "phospho_type = 'ST'    #type of phosphomodification to generate networks for ('Y', 'ST')\n",
    "kinase_size = 2000     #minimum number of substrates all kinases must be connected to\n",
    "site_limit = 10       #maximum number of kinases a particular substrate can be connected to\n",
    "num_networks = 50     #number of pruned networks to generate\n",
    "network_id = 'PhsphoPICK_pruning'\n",
    "use_compendia = True  #indicates whether kinases are forced to be connected to the same substrate study bias distribution\n",
    "acc_col = 'substrate_acc' # column that contains Uniprot Accession ID of each substrate in the weighted network\n",
    "site_col = 'site' # column that contains residue and site number of each substrate in the weighted network\n",
    "netcols_todrop = None\n",
    "odir = './PRUNED NETWORKS/PhosphoPICK' #where the final pruned networks should be saved\n",
    "PROCESSES = 4\t\t#number of cores to use (> 1 for multiprocessing)\n",
    "\n",
    "\n",
    "#Load networks and define parameters used during the pruning run\n",
    "network_file = './PRUNED NETWORKS/PhosphoPICK/PhosphoPICK_2020-02-26_all_matrix.csv'\n",
    "network = pd.read_csv(network_file, na_values=['-'])"
   ]
  },
  {
   "cell_type": "code",
   "execution_count": 2,
   "metadata": {},
   "outputs": [
    {
     "name": "stdout",
     "output_type": "stream",
     "text": [
      "Following non-numeric columns were identified: substrate_id, substrate_name, substrate_acc, site, pep\n",
      "It is assumed that these columns do not contain kinase-substrate weights and were removed. If this incorrect, please make sure weight containing columns only contain numeric values\n",
      "Duplicate entries found in network, removing repeat rows\n"
     ]
    }
   ],
   "source": [
    "pruner = run_pruning(network, log, phospho_type, kinase_size, site_limit, num_networks, network_id, odir, use_compendia, \n",
    "\tacc_col = acc_col, site_col = site_col, netcols_todrop = netcols_todrop, PROCESSES = PROCESSES)\n",
    "pruner.save_networks()\n",
    "pruner.save_run_information()"
   ]
  },
  {
   "attachments": {},
   "cell_type": "markdown",
   "metadata": {},
   "source": [
    "KSDB input"
   ]
  },
  {
   "cell_type": "code",
   "execution_count": 2,
   "metadata": {},
   "outputs": [
    {
     "name": "stdout",
     "output_type": "stream",
     "text": [
      "Following non-numeric columns were identified: substrate_acc, site\n",
      "It is assumed that these columns do not contain kinase-substrate weights and were removed. If this incorrect, please make sure weight containing columns only contain numeric values\n",
      "Duplicate entries found in network, removing repeat rows\n"
     ]
    }
   ],
   "source": [
    "import pandas as pd\n",
    "from kstar.prune import run_pruning, save_pruning, save_run_information, Pruner\n",
    "from kstar import config, helpers\n",
    "\n",
    "log = helpers.get_logger('kstar_log', \"pruning.log\")\n",
    "#set other parameters \n",
    "phospho_type = 'ST'    #type of phosphomodification to generate networks for ('Y', 'ST')\n",
    "kinase_size = 30     #minimum number of substrates all kinases must be connected to\n",
    "site_limit = 15       #maximum number of kinases a particular substrate can be connected to\n",
    "num_networks = 100     #number of pruned networks to generate\n",
    "network_id = 'KSDB_pruning'\n",
    "use_compendia = False  #indicates whether kinases are forced to be connected to the same substrate study bias distribution\n",
    "acc_col = 'substrate_acc' # column that contains Uniprot Accession ID of each substrate in the weighted network\n",
    "site_col = 'site' # column that contains residue and site number of each substrate in the weighted network\n",
    "netcols_todrop = None\n",
    "odir = './PRUNED NETWORKS/KSDB' #where the final pruned networks should be saved\n",
    "PROCESSES = 4\t\t#number of cores to use (> 1 for multiprocessing)\n",
    "\n",
    "\n",
    "#Load networks and define parameters used during the pruning run\n",
    "network_file = './KSDB_prune_input_for_KSTAR.txt'\n",
    "network = pd.read_csv(network_file, sep = \"\\t\", keep_default_na = True)\n",
    "pruner = Pruner(network, log, phospho_type, acc_col = acc_col, site_col = site_col, nonweight_cols = netcols_todrop)\n",
    "\n",
    "filtered_kinases = ['substrate_acc', 'site']\n",
    "for kinase in pruner.kinases:\n",
    "    if sum((pruner.network[kinase] > 0).to_list()) >= 50:\n",
    "        filtered_kinases += [kinase]\n",
    "\n",
    "network = network[filtered_kinases]"
   ]
  },
  {
   "cell_type": "code",
   "execution_count": 5,
   "metadata": {},
   "outputs": [
    {
     "name": "stdout",
     "output_type": "stream",
     "text": [
      "Following non-numeric columns were identified: substrate_acc, site\n",
      "It is assumed that these columns do not contain kinase-substrate weights and were removed. If this incorrect, please make sure weight containing columns only contain numeric values\n",
      "Duplicate entries found in network, removing repeat rows\n"
     ]
    }
   ],
   "source": [
    "#run and save pruning\n",
    "pruner = run_pruning(network, log, phospho_type, kinase_size, site_limit, num_networks, network_id, odir, use_compendia, \n",
    "\tacc_col = acc_col, site_col = site_col, netcols_todrop = netcols_todrop, PROCESSES = PROCESSES)\n",
    "pruner.save_networks()\n",
    "pruner.save_run_information()"
   ]
  },
  {
   "cell_type": "code",
   "execution_count": 6,
   "metadata": {},
   "outputs": [
    {
     "name": "stdout",
     "output_type": "stream",
     "text": [
      "Following non-numeric columns were identified: substrate_acc, site\n",
      "It is assumed that these columns do not contain kinase-substrate weights and were removed. If this incorrect, please make sure weight containing columns only contain numeric values\n",
      "Duplicate entries found in network, removing repeat rows\n"
     ]
    }
   ],
   "source": [
    "import pandas as pd\n",
    "from kstar.prune import run_pruning, save_pruning, save_run_information, Pruner\n",
    "from kstar import config, helpers\n",
    "\n",
    "log = helpers.get_logger('kstar_log', \"pruning.log\")\n",
    "#set other parameters \n",
    "phospho_type = 'ST'    #type of phosphomodification to generate networks for ('Y', 'ST')\n",
    "kinase_size = 50     #minimum number of substrates all kinases must be connected to\n",
    "site_limit = 15       #maximum number of kinases a particular substrate can be connected to\n",
    "num_networks = 20     #number of pruned networks to generate\n",
    "network_id = 'KSDB_pruning'\n",
    "use_compendia = False  #indicates whether kinases are forced to be connected to the same substrate study bias distribution\n",
    "acc_col = 'substrate_acc' # column that contains Uniprot Accession ID of each substrate in the weighted network\n",
    "site_col = 'site' # column that contains residue and site number of each substrate in the weighted network\n",
    "netcols_todrop = None\n",
    "odir = './PRUNED NETWORKS/KSDB' #where the final pruned networks should be saved\n",
    "PROCESSES = 4\t\t#number of cores to use (> 1 for multiprocessing)\n",
    "\n",
    "\n",
    "#Load networks and define parameters used during the pruning run\n",
    "network_file = './KSDB_prune_input_for_KSTAR.txt'\n",
    "network = pd.read_csv(network_file, sep = \"\\t\", keep_default_na = True)\n",
    "pruner = Pruner(network, log, phospho_type, acc_col = acc_col, site_col = site_col, nonweight_cols = netcols_todrop)\n",
    "\n",
    "filtered_kinases = ['substrate_acc', 'site']\n",
    "for kinase in pruner.kinases:\n",
    "    if sum((pruner.network[kinase] > 0).to_list()) >= kinase_size + 10:\n",
    "        filtered_kinases += [kinase]\n",
    "\n",
    "network = network[filtered_kinases]"
   ]
  },
  {
   "cell_type": "code",
   "execution_count": 7,
   "metadata": {},
   "outputs": [
    {
     "name": "stdout",
     "output_type": "stream",
     "text": [
      "Following non-numeric columns were identified: substrate_acc, site\n",
      "It is assumed that these columns do not contain kinase-substrate weights and were removed. If this incorrect, please make sure weight containing columns only contain numeric values\n",
      "Duplicate entries found in network, removing repeat rows\n"
     ]
    }
   ],
   "source": [
    "#run and save pruning\n",
    "pruner = run_pruning(network, log, phospho_type, kinase_size, site_limit, num_networks, network_id, odir, use_compendia, \n",
    "\tacc_col = acc_col, site_col = site_col, netcols_todrop = netcols_todrop, PROCESSES = PROCESSES)\n",
    "pruner.save_networks()\n",
    "pruner.save_run_information()"
   ]
  }
 ],
 "metadata": {
  "kernelspec": {
   "display_name": "Python 3.9.13 ('KSTAR')",
   "language": "python",
   "name": "python3"
  },
  "language_info": {
   "codemirror_mode": {
    "name": "ipython",
    "version": 3
   },
   "file_extension": ".py",
   "mimetype": "text/x-python",
   "name": "python",
   "nbconvert_exporter": "python",
   "pygments_lexer": "ipython3",
   "version": "3.9.13 (main, Oct 13 2022, 21:23:06) [MSC v.1916 64 bit (AMD64)]"
  },
  "orig_nbformat": 4,
  "vscode": {
   "interpreter": {
    "hash": "ce2bc10266c3c47c7cd9d6deca157407d280a54876ee692a140d7406b6a0ae9e"
   }
  }
 },
 "nbformat": 4,
 "nbformat_minor": 2
}
