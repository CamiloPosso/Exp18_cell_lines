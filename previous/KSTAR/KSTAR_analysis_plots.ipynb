{
 "cells": [
  {
   "cell_type": "code",
   "execution_count": 1,
   "metadata": {},
   "outputs": [],
   "source": [
    "#import necessary packages\n",
    "import numpy as np\n",
    "import pandas as pd\n",
    "import matplotlib.pyplot as plt\n",
    "from kstar.plot import DotPlot\n",
    "from kstar import helpers, config, calculate"
   ]
  },
  {
   "cell_type": "code",
   "execution_count": 5,
   "metadata": {},
   "outputs": [
    {
     "name": "stdout",
     "output_type": "stream",
     "text": [
      "ERROR: Cannot find parameter dictionary file in RESULTS: KSTAR/RESULTS/example_run_params.p\n"
     ]
    }
   ],
   "source": [
    "odir = ''\n",
    "logName = 'example_run'\n",
    "phosphomod = 'Y'\n",
    "logName_new = f\"{logName}_{phosphomod}\"\n",
    "#get activity log\n",
    "activity_log = helpers.get_logger(f\"activity_{logName}\", f\"{odir}/RESULTS/activity_{logName_new}.log\")\n",
    "\n",
    "#Load kstar_slim save\n",
    "kinact_dict = calculate.from_kstar_slim(logName, \"KSTAR\", activity_log)"
   ]
  }
 ],
 "metadata": {
  "kernelspec": {
   "display_name": "Python 3.9.13 ('KSTAR')",
   "language": "python",
   "name": "python3"
  },
  "language_info": {
   "codemirror_mode": {
    "name": "ipython",
    "version": 3
   },
   "file_extension": ".py",
   "mimetype": "text/x-python",
   "name": "python",
   "nbconvert_exporter": "python",
   "pygments_lexer": "ipython3",
   "version": "3.9.13"
  },
  "orig_nbformat": 4,
  "vscode": {
   "interpreter": {
    "hash": "ce2bc10266c3c47c7cd9d6deca157407d280a54876ee692a140d7406b6a0ae9e"
   }
  }
 },
 "nbformat": 4,
 "nbformat_minor": 2
}
