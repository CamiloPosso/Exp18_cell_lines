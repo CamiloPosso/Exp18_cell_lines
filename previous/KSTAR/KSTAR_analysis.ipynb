{
 "cells": [
  {
   "cell_type": "code",
   "execution_count": 2,
   "metadata": {
    "tags": []
   },
   "outputs": [
    {
     "ename": "ModuleNotFoundError",
     "evalue": "No module named 'kstar'",
     "output_type": "error",
     "traceback": [
      "\u001b[0;31m---------------------------------------------------------------------------\u001b[0m",
      "\u001b[0;31mModuleNotFoundError\u001b[0m                       Traceback (most recent call last)",
      "Cell \u001b[0;32mIn[2], line 7\u001b[0m\n\u001b[1;32m      5\u001b[0m \u001b[38;5;28;01mimport\u001b[39;00m \u001b[38;5;21;01mos\u001b[39;00m\n\u001b[1;32m      6\u001b[0m \u001b[38;5;28;01mimport\u001b[39;00m \u001b[38;5;21;01mre\u001b[39;00m\n\u001b[0;32m----> 7\u001b[0m \u001b[38;5;28;01mimport\u001b[39;00m \u001b[38;5;21;01mkstar\u001b[39;00m\n\u001b[1;32m      8\u001b[0m \u001b[38;5;28;01mfrom\u001b[39;00m \u001b[38;5;21;01mkstar\u001b[39;00m \u001b[38;5;28;01mimport\u001b[39;00m config, helpers, mapping, calculate\n",
      "\u001b[0;31mModuleNotFoundError\u001b[0m: No module named 'kstar'"
     ]
    }
   ],
   "source": [
    "import pandas as pd\n",
    "import numpy as np\n",
    "import pickle\n",
    "import glob\n",
    "import os\n",
    "import re\n",
    "import kstar\n",
    "from kstar import config, helpers, mapping, calculate\n",
    "\n",
    "# phospho_data = pd.read_csv(\"proteomics\\data\\phospho_data\\ptrc_ex18_crosstab_phospho_siteID_prot_corrected.txt\", sep = \"\\t\")\n"
   ]
  },
  {
   "cell_type": "markdown",
   "metadata": {},
   "source": [
    "Using sig sites as input"
   ]
  },
  {
   "cell_type": "code",
   "execution_count": 2,
   "metadata": {},
   "outputs": [],
   "source": [
    "#define the directory where mapped dataset and run information will be saved.\n",
    "odir = '.'\n",
    "#if directory doesn't exist yet, create it\n",
    "if not os.path.exists(f\"{odir}/MAPPED_DATA\"):\n",
    "    os.mkdir(f\"{odir}/MAPPED_DATA\")\n",
    "\n",
    "#Define the log name\n",
    "logName = 'exp_18_cells_sigs'\n",
    "#intialize logger\n",
    "mapping_log = helpers.get_logger(f\"mapping_{logName}\", f\"{odir}/MAPPED_DATA/mapping_{logName}.log\")\n",
    "\n",
    "mapDict = {'peptide':'Peptide_kstar', 'accession_id':'Protein_kstar'}\n",
    "phospho_data = pd.read_csv(\"..\\comparisons\\\\treatments_vs_parental\\Tables\\KSTAR_full_input_sigs.txt\", sep = \"\\t\")\n",
    "\n",
    "exp_mapper = mapping.ExperimentMapper(experiment = phospho_data,\n",
    "                                      columns = mapDict,\n",
    "                                      logger = mapping_log)\n",
    "#save mapped dataset\n",
    "exp_mapper.experiment.to_csv(f\"{odir}/MAPPED_DATA/{logName}_mapped.tsv\", sep = '\\t', index = False)"
   ]
  },
  {
   "cell_type": "code",
   "execution_count": 3,
   "metadata": {},
   "outputs": [],
   "source": [
    "#Name\n",
    "logName_new = logName + '_Y,ST'\n",
    "#if directory does not exits, create it\n",
    "if not os.path.exists(f\"{odir}/RESULTS\"):\n",
    "    os.mkdir(f\"{odir}/RESULTS\")\n",
    "#intialize log file\n",
    "activity_log = helpers.get_logger(f\"activity_{logName_new}\", f\"{odir}/RESULTS/activity_{logName_new}.log\")\n",
    "\n",
    "experiment = pd.read_csv(f'{odir}/MAPPED_DATA/{logName}_mapped.tsv', sep = '\\t', index_col = 0)\n",
    "\n",
    "#Load the pickles containing the 50 pruned networks for tyrosine kinases\n",
    "phospho_types = ['ST'] #running on this type of kinase/substrate network\n",
    "networks = {}\n",
    "# networks['ST'] = pickle.load(open(\".\\PRUNED NETWORKS\\PhosphoPICK\\PhsphoPICK_pruning_ST_compendia_2000_limit_10.p\", \"rb\"))\n",
    "networks['ST'] = pickle.load(open(\".\\PRUNED NETWORKS\\KSDB\\KSDB_pruning_ST_30_limit_15.p\", \"rb\"))"
   ]
  },
  {
   "cell_type": "code",
   "execution_count": null,
   "metadata": {},
   "outputs": [],
   "source": [
    "#Checking counts \n",
    "agg = 'mean'\n",
    "greater = False\n",
    "threshold = -0.01\n",
    "data_columns = None\n",
    "\n",
    "#intialize KinaseActivity class object\n",
    "kinact = calculate.KinaseActivity(experiment, activity_log,data_columns = data_columns, phospho_type=['S', 'T'])\n",
    "#convert evidence into binary evidence based on the provided threshold\n",
    "evidence_binary = kinact.create_binary_evidence(agg = agg, threshold = threshold,  greater = greater)\n",
    "data_cols = [col for col in evidence_binary.columns if 'data:' in col]\n",
    "evidence_binary[data_cols].sum()"
   ]
  },
  {
   "cell_type": "code",
   "execution_count": 4,
   "metadata": {},
   "outputs": [
    {
     "name": "stderr",
     "output_type": "stream",
     "text": [
      "c:\\Users\\poss982\\Anaconda3\\envs\\KSTAR\\lib\\site-packages\\kstar\\calculate.py:138: FutureWarning: The default value of numeric_only in DataFrameGroupBy.mean is deprecated. In a future version, numeric_only will default to False. Either specify numeric_only or select only columns which should be valid for the function.\n",
      "  evidence = self.evidence.groupby([config.KSTAR_ACCESSION, config.KSTAR_SITE]).agg(self.aggregate).reset_index()\n",
      "c:\\Users\\poss982\\Anaconda3\\envs\\KSTAR\\lib\\site-packages\\kstar\\calculate.py:454: FutureWarning: The default value of numeric_only in DataFrameGroupBy.mean is deprecated. In a future version, numeric_only will default to False. Either specify numeric_only or select only columns which should be valid for the function.\n",
      "  evidence = self.evidence.groupby([config.KSTAR_ACCESSION, config.KSTAR_SITE]).agg(agg).reset_index()\n"
     ]
    }
   ],
   "source": [
    "agg = 'mean'\n",
    "greater = False\n",
    "threshold = -0.01\n",
    "data_columns = None\n",
    "\n",
    "#Create activity log: if already did this, ignore.\n",
    "if not os.path.exists(f\"{odir}/RESULTS\"):\n",
    "    os.mkdir(f\"{odir}/RESULTS\")\n",
    "activity_log = helpers.get_logger(f\"activity_{logName}\", f\"{odir}/RESULTS/activity_{logName}.log\")\n",
    "\n",
    "kinact_dict = calculate.enrichment_analysis(experiment, activity_log, networks, phospho_types = phospho_types,\n",
    "                                                agg =agg, threshold = threshold,\n",
    "                                                greater = greater, PROCESSES = 4)\n",
    "\n",
    "#Set the number of random experiments\n",
    "num_random_experiments = 150\n",
    "#Generate random experiments\n",
    "calculate.randomized_analysis(kinact_dict, activity_log, num_random_experiments, PROCESSES = 4)\n",
    "\n",
    "calculate.Mann_Whitney_analysis(kinact_dict, activity_log, number_sig_trials = 100, PROCESSES = 4)\n",
    "\n",
    "activities = kinact_dict['ST'].activities_mann_whitney.copy()\n",
    "log_results = -np.log10(activities)\n",
    "activities = activities[['data:Early_and_G_vs_Parental_and_none',\n",
    "                         'data:Late_and_G_vs_Parental_and_none',\n",
    "                         'data:Early_and_GD_vs_Parental_and_none',\n",
    "                         'data:Late_and_GD_vs_Parental_and_none',\n",
    "                         'data:Early_and_GV_vs_Parental_and_none',\n",
    "                         'data:Late_and_GV_vs_Parental_and_none',\n",
    "                         'data:Early_and_GVD_vs_Parental_and_none',\n",
    "                         'data:Late_and_GVD_vs_Parental_and_none']]\n",
    "fpr = kinact_dict['ST'].fpr_mann_whitney.copy()\n",
    "\n",
    "for col in activities.columns:\n",
    "    activities[col + \"_fdr\"] = fpr[col]\n",
    "\n",
    "activities.to_csv(\"KSDB_KSTAR_ST_sigs_kinase_activity_negative.txt\", sep = \"\\t\")"
   ]
  },
  {
   "cell_type": "code",
   "execution_count": 5,
   "metadata": {},
   "outputs": [
    {
     "name": "stderr",
     "output_type": "stream",
     "text": [
      "c:\\Users\\poss982\\Anaconda3\\envs\\KSTAR\\lib\\site-packages\\kstar\\calculate.py:138: FutureWarning: The default value of numeric_only in DataFrameGroupBy.mean is deprecated. In a future version, numeric_only will default to False. Either specify numeric_only or select only columns which should be valid for the function.\n",
      "  evidence = self.evidence.groupby([config.KSTAR_ACCESSION, config.KSTAR_SITE]).agg(self.aggregate).reset_index()\n",
      "c:\\Users\\poss982\\Anaconda3\\envs\\KSTAR\\lib\\site-packages\\kstar\\calculate.py:454: FutureWarning: The default value of numeric_only in DataFrameGroupBy.mean is deprecated. In a future version, numeric_only will default to False. Either specify numeric_only or select only columns which should be valid for the function.\n",
      "  evidence = self.evidence.groupby([config.KSTAR_ACCESSION, config.KSTAR_SITE]).agg(agg).reset_index()\n"
     ]
    }
   ],
   "source": [
    "agg = 'mean'\n",
    "greater = True\n",
    "threshold = 0.01\n",
    "data_columns = None\n",
    "\n",
    "#Create activity log: if already did this, ignore.\n",
    "if not os.path.exists(f\"{odir}/RESULTS\"):\n",
    "    os.mkdir(f\"{odir}/RESULTS\")\n",
    "activity_log = helpers.get_logger(f\"activity_{logName}\", f\"{odir}/RESULTS/activity_{logName}.log\")\n",
    "\n",
    "kinact_dict = calculate.enrichment_analysis(experiment, activity_log, networks, phospho_types = phospho_types,\n",
    "                                                agg =agg, threshold = threshold,\n",
    "                                                greater = greater, PROCESSES = 4)\n",
    "\n",
    "#Set the number of random experiments\n",
    "num_random_experiments = 150\n",
    "#Generate random experiments\n",
    "calculate.randomized_analysis(kinact_dict, activity_log, num_random_experiments, PROCESSES = 4)\n",
    "\n",
    "calculate.Mann_Whitney_analysis(kinact_dict, activity_log, number_sig_trials = 100, PROCESSES = 4)\n",
    "\n",
    "activities = kinact_dict['ST'].activities_mann_whitney.copy()\n",
    "log_results = -np.log10(activities)\n",
    "activities = activities[['data:Early_and_G_vs_Parental_and_none',\n",
    "                         'data:Late_and_G_vs_Parental_and_none',\n",
    "                         'data:Early_and_GD_vs_Parental_and_none',\n",
    "                         'data:Late_and_GD_vs_Parental_and_none',\n",
    "                         'data:Early_and_GV_vs_Parental_and_none',\n",
    "                         'data:Late_and_GV_vs_Parental_and_none',\n",
    "                         'data:Early_and_GVD_vs_Parental_and_none',\n",
    "                         'data:Late_and_GVD_vs_Parental_and_none']]\n",
    "fpr = kinact_dict['ST'].fpr_mann_whitney.copy()\n",
    "\n",
    "for col in activities.columns:\n",
    "    activities[col + \"_fdr\"] = fpr[col]\n",
    "\n",
    "activities.to_csv(\"KSDB_KSTAR_ST_sigs_kinase_activity_positive.txt\", sep = \"\\t\")"
   ]
  },
  {
   "cell_type": "markdown",
   "metadata": {},
   "source": [
    "Using sig only, cutoff of 1."
   ]
  },
  {
   "cell_type": "code",
   "execution_count": 6,
   "metadata": {},
   "outputs": [
    {
     "name": "stderr",
     "output_type": "stream",
     "text": [
      "c:\\Users\\poss982\\Anaconda3\\envs\\KSTAR\\lib\\site-packages\\kstar\\calculate.py:138: FutureWarning: The default value of numeric_only in DataFrameGroupBy.mean is deprecated. In a future version, numeric_only will default to False. Either specify numeric_only or select only columns which should be valid for the function.\n",
      "  evidence = self.evidence.groupby([config.KSTAR_ACCESSION, config.KSTAR_SITE]).agg(self.aggregate).reset_index()\n",
      "c:\\Users\\poss982\\Anaconda3\\envs\\KSTAR\\lib\\site-packages\\kstar\\calculate.py:454: FutureWarning: The default value of numeric_only in DataFrameGroupBy.mean is deprecated. In a future version, numeric_only will default to False. Either specify numeric_only or select only columns which should be valid for the function.\n",
      "  evidence = self.evidence.groupby([config.KSTAR_ACCESSION, config.KSTAR_SITE]).agg(agg).reset_index()\n",
      "c:\\Users\\poss982\\Anaconda3\\envs\\KSTAR\\lib\\site-packages\\pandas\\core\\internals\\blocks.py:351: RuntimeWarning: divide by zero encountered in log10\n",
      "  result = func(self.values, **kwargs)\n"
     ]
    }
   ],
   "source": [
    "agg = 'mean'\n",
    "greater = False\n",
    "threshold = -1\n",
    "data_columns = None\n",
    "\n",
    "#Create activity log: if already did this, ignore.\n",
    "if not os.path.exists(f\"{odir}/RESULTS\"):\n",
    "    os.mkdir(f\"{odir}/RESULTS\")\n",
    "activity_log = helpers.get_logger(f\"activity_{logName}\", f\"{odir}/RESULTS/activity_{logName}.log\")\n",
    "\n",
    "kinact_dict = calculate.enrichment_analysis(experiment, activity_log, networks, phospho_types = phospho_types,\n",
    "                                                agg =agg, threshold = threshold,\n",
    "                                                greater = greater, PROCESSES = 4)\n",
    "\n",
    "#Set the number of random experiments\n",
    "num_random_experiments = 150\n",
    "#Generate random experiments\n",
    "calculate.randomized_analysis(kinact_dict, activity_log, num_random_experiments, PROCESSES = 4)\n",
    "\n",
    "calculate.Mann_Whitney_analysis(kinact_dict, activity_log, number_sig_trials = 100, PROCESSES = 4)\n",
    "\n",
    "activities = kinact_dict['ST'].activities_mann_whitney.copy()\n",
    "log_results = -np.log10(activities)\n",
    "activities = activities[['data:Early_and_G_vs_Parental_and_none',\n",
    "                         'data:Late_and_G_vs_Parental_and_none',\n",
    "                         'data:Early_and_GD_vs_Parental_and_none',\n",
    "                         'data:Late_and_GD_vs_Parental_and_none',\n",
    "                         'data:Early_and_GV_vs_Parental_and_none',\n",
    "                         'data:Late_and_GV_vs_Parental_and_none',\n",
    "                         'data:Early_and_GVD_vs_Parental_and_none',\n",
    "                         'data:Late_and_GVD_vs_Parental_and_none']]\n",
    "fpr = kinact_dict['ST'].fpr_mann_whitney.copy()\n",
    "\n",
    "for col in activities.columns:\n",
    "    activities[col + \"_fdr\"] = fpr[col]\n",
    "\n",
    "activities.to_csv(\"KSDB_KSTAR_ST_sigs_kinase_activity_negative1.txt\", sep = \"\\t\")"
   ]
  },
  {
   "cell_type": "code",
   "execution_count": 7,
   "metadata": {},
   "outputs": [
    {
     "name": "stderr",
     "output_type": "stream",
     "text": [
      "c:\\Users\\poss982\\Anaconda3\\envs\\KSTAR\\lib\\site-packages\\kstar\\calculate.py:138: FutureWarning: The default value of numeric_only in DataFrameGroupBy.mean is deprecated. In a future version, numeric_only will default to False. Either specify numeric_only or select only columns which should be valid for the function.\n",
      "  evidence = self.evidence.groupby([config.KSTAR_ACCESSION, config.KSTAR_SITE]).agg(self.aggregate).reset_index()\n",
      "c:\\Users\\poss982\\Anaconda3\\envs\\KSTAR\\lib\\site-packages\\kstar\\calculate.py:454: FutureWarning: The default value of numeric_only in DataFrameGroupBy.mean is deprecated. In a future version, numeric_only will default to False. Either specify numeric_only or select only columns which should be valid for the function.\n",
      "  evidence = self.evidence.groupby([config.KSTAR_ACCESSION, config.KSTAR_SITE]).agg(agg).reset_index()\n",
      "c:\\Users\\poss982\\Anaconda3\\envs\\KSTAR\\lib\\site-packages\\pandas\\core\\internals\\blocks.py:351: RuntimeWarning: divide by zero encountered in log10\n",
      "  result = func(self.values, **kwargs)\n"
     ]
    }
   ],
   "source": [
    "agg = 'mean'\n",
    "greater = True\n",
    "threshold = 1\n",
    "data_columns = None\n",
    "\n",
    "#Create activity log: if already did this, ignore.\n",
    "if not os.path.exists(f\"{odir}/RESULTS\"):\n",
    "    os.mkdir(f\"{odir}/RESULTS\")\n",
    "activity_log = helpers.get_logger(f\"activity_{logName}\", f\"{odir}/RESULTS/activity_{logName}.log\")\n",
    "\n",
    "kinact_dict = calculate.enrichment_analysis(experiment, activity_log, networks, phospho_types = phospho_types,\n",
    "                                                agg =agg, threshold = threshold,\n",
    "                                                greater = greater, PROCESSES = 4)\n",
    "\n",
    "#Set the number of random experiments\n",
    "num_random_experiments = 150\n",
    "#Generate random experiments\n",
    "calculate.randomized_analysis(kinact_dict, activity_log, num_random_experiments, PROCESSES = 4)\n",
    "\n",
    "calculate.Mann_Whitney_analysis(kinact_dict, activity_log, number_sig_trials = 100, PROCESSES = 4)\n",
    "\n",
    "activities = kinact_dict['ST'].activities_mann_whitney.copy()\n",
    "log_results = -np.log10(activities)\n",
    "activities = activities[['data:Early_and_G_vs_Parental_and_none',\n",
    "                         'data:Late_and_G_vs_Parental_and_none',\n",
    "                         'data:Early_and_GD_vs_Parental_and_none',\n",
    "                         'data:Late_and_GD_vs_Parental_and_none',\n",
    "                         'data:Early_and_GV_vs_Parental_and_none',\n",
    "                         'data:Late_and_GV_vs_Parental_and_none',\n",
    "                         'data:Early_and_GVD_vs_Parental_and_none',\n",
    "                         'data:Late_and_GVD_vs_Parental_and_none']]\n",
    "fpr = kinact_dict['ST'].fpr_mann_whitney.copy()\n",
    "\n",
    "for col in activities.columns:\n",
    "    activities[col + \"_fdr\"] = fpr[col]\n",
    "\n",
    "activities.to_csv(\"KSDB_KSTAR_ST_sigs_kinase_activity_positive1.txt\", sep = \"\\t\")"
   ]
  },
  {
   "cell_type": "markdown",
   "metadata": {},
   "source": [
    "Using full input, not just significant ones. Cutoff of 1, with PhosphoPICK networks"
   ]
  },
  {
   "cell_type": "code",
   "execution_count": 2,
   "metadata": {},
   "outputs": [],
   "source": [
    "#define the directory where mapped dataset and run information will be saved.\n",
    "odir = '.'\n",
    "#if directory doesn't exist yet, create it\n",
    "if not os.path.exists(f\"{odir}/MAPPED_DATA\"):\n",
    "    os.mkdir(f\"{odir}/MAPPED_DATA\")\n",
    "\n",
    "#Define the log name\n",
    "logName = 'exp_18_cells_full'\n",
    "#intialize logger\n",
    "mapping_log = helpers.get_logger(f\"mapping_{logName}\", f\"{odir}/MAPPED_DATA/mapping_{logName}.log\")\n",
    "\n",
    "mapDict = {'peptide':'Peptide_kstar', 'accession_id':'Protein_kstar'}\n",
    "phospho_data = pd.read_csv(\"..\\comparisons\\\\treatments_vs_parental\\Tables\\KSTAR_full_input.txt\", sep = \"\\t\")\n",
    "\n",
    "exp_mapper = mapping.ExperimentMapper(experiment = phospho_data,\n",
    "                                      columns = mapDict,\n",
    "                                      logger = mapping_log)\n",
    "#save mapped dataset\n",
    "exp_mapper.experiment.to_csv(f\"{odir}/MAPPED_DATA/{logName}_mapped.tsv\", sep = '\\t', index = False)"
   ]
  },
  {
   "cell_type": "code",
   "execution_count": 4,
   "metadata": {},
   "outputs": [],
   "source": [
    "#Name\n",
    "logName_new = logName + '_Y,ST'\n",
    "#if directory does not exits, create it\n",
    "if not os.path.exists(f\"{odir}/RESULTS\"):\n",
    "    os.mkdir(f\"{odir}/RESULTS\")\n",
    "#intialize log file\n",
    "activity_log = helpers.get_logger(f\"activity_{logName_new}\", f\"{odir}/RESULTS/activity_{logName_new}.log\")\n",
    "\n",
    "experiment = pd.read_csv(f'{odir}/MAPPED_DATA/{logName}_mapped.tsv', sep = '\\t', index_col = 0)\n",
    "\n",
    "#Load the pickles containing the 50 pruned networks for tyrosine kinases\n",
    "phospho_types = ['ST'] #running on this type of kinase/substrate network\n",
    "networks = {}\n",
    "networks['ST'] = pickle.load(open(\".\\PRUNED NETWORKS\\PhosphoPICK\\PhsphoPICK_pruning_ST_compendia_2000_limit_10.p\", \"rb\"))\n",
    "# networks['ST'] = pickle.load(open(\".\\PRUNED NETWORKS\\KSDB\\KSDB_pruning_ST_30_limit_15.p\", \"rb\"))"
   ]
  },
  {
   "cell_type": "code",
   "execution_count": 5,
   "metadata": {},
   "outputs": [
    {
     "name": "stderr",
     "output_type": "stream",
     "text": [
      "c:\\Users\\poss982\\Anaconda3\\envs\\KSTAR\\lib\\site-packages\\kstar\\calculate.py:138: FutureWarning: The default value of numeric_only in DataFrameGroupBy.mean is deprecated. In a future version, numeric_only will default to False. Either specify numeric_only or select only columns which should be valid for the function.\n",
      "  evidence = self.evidence.groupby([config.KSTAR_ACCESSION, config.KSTAR_SITE]).agg(self.aggregate).reset_index()\n",
      "c:\\Users\\poss982\\Anaconda3\\envs\\KSTAR\\lib\\site-packages\\kstar\\calculate.py:454: FutureWarning: The default value of numeric_only in DataFrameGroupBy.mean is deprecated. In a future version, numeric_only will default to False. Either specify numeric_only or select only columns which should be valid for the function.\n",
      "  evidence = self.evidence.groupby([config.KSTAR_ACCESSION, config.KSTAR_SITE]).agg(agg).reset_index()\n"
     ]
    }
   ],
   "source": [
    "agg = 'mean'\n",
    "greater = False\n",
    "threshold = -1\n",
    "data_columns = None\n",
    "\n",
    "#intialize KinaseActivity class object\n",
    "## TYPO HERE!! MUST USE 'S', 'T', NOT 'ST'.\n",
    "# kinact = calculate.KinaseActivity(experiment, activity_log, data_columns = data_columns, phospho_type=['Y', 'S', 'T'])   ## TYPO HERE!! MUST USE 'S', 'T', NOT 'ST'.\n",
    "## convert evidence into binary evidence based on the provided threshold\n",
    "# evidence_binary = kinact.create_binary_evidence(agg = agg, threshold = threshold,  greater = greater)\n",
    "\n",
    "# data_cols = [col for col in evidence_binary.columns if 'data:' in col]\n",
    "# evidence_binary[data_cols].sum()\n",
    "\n",
    "\n",
    "#Create activity log: if already did this, ignore.\n",
    "if not os.path.exists(f\"{odir}/RESULTS\"):\n",
    "    os.mkdir(f\"{odir}/RESULTS\")\n",
    "activity_log = helpers.get_logger(f\"activity_{logName}\", f\"{odir}/RESULTS/activity_{logName}.log\")\n",
    "\n",
    "kinact_dict = calculate.enrichment_analysis(experiment, activity_log, networks, phospho_types = phospho_types,\n",
    "                                                agg =agg, threshold = threshold,\n",
    "                                                greater = greater, PROCESSES = 4)\n",
    "\n",
    "#Set the number of random experiments\n",
    "num_random_experiments = 150\n",
    "#Generate random experiments\n",
    "calculate.randomized_analysis(kinact_dict, activity_log, num_random_experiments, PROCESSES = 4)\n",
    "\n",
    "calculate.Mann_Whitney_analysis(kinact_dict, activity_log, number_sig_trials = 100, PROCESSES = 4)\n",
    "\n",
    "activities = kinact_dict['ST'].activities_mann_whitney.copy()\n",
    "log_results = -np.log10(activities)\n",
    "activities = activities[['data:Early_and_G_vs_Parental_and_none',\n",
    "                         'data:Late_and_G_vs_Parental_and_none',\n",
    "                         'data:Early_and_GD_vs_Parental_and_none',\n",
    "                         'data:Late_and_GD_vs_Parental_and_none',\n",
    "                         'data:Early_and_GV_vs_Parental_and_none',\n",
    "                         'data:Late_and_GV_vs_Parental_and_none',\n",
    "                         'data:Early_and_GVD_vs_Parental_and_none',\n",
    "                         'data:Late_and_GVD_vs_Parental_and_none']]\n",
    "fpr = kinact_dict['ST'].fpr_mann_whitney.copy()\n",
    "\n",
    "for col in activities.columns:\n",
    "    activities[col + \"_fdr\"] = fpr[col]\n",
    "\n",
    "activities.to_csv(\"PhosphoPICK_KSTAR_ST_all_kinase_activity_negative1.txt\", sep = \"\\t\")"
   ]
  },
  {
   "cell_type": "code",
   "execution_count": 6,
   "metadata": {},
   "outputs": [
    {
     "name": "stderr",
     "output_type": "stream",
     "text": [
      "c:\\Users\\poss982\\Anaconda3\\envs\\KSTAR\\lib\\site-packages\\kstar\\calculate.py:138: FutureWarning: The default value of numeric_only in DataFrameGroupBy.mean is deprecated. In a future version, numeric_only will default to False. Either specify numeric_only or select only columns which should be valid for the function.\n",
      "  evidence = self.evidence.groupby([config.KSTAR_ACCESSION, config.KSTAR_SITE]).agg(self.aggregate).reset_index()\n",
      "c:\\Users\\poss982\\Anaconda3\\envs\\KSTAR\\lib\\site-packages\\kstar\\calculate.py:454: FutureWarning: The default value of numeric_only in DataFrameGroupBy.mean is deprecated. In a future version, numeric_only will default to False. Either specify numeric_only or select only columns which should be valid for the function.\n",
      "  evidence = self.evidence.groupby([config.KSTAR_ACCESSION, config.KSTAR_SITE]).agg(agg).reset_index()\n"
     ]
    }
   ],
   "source": [
    "agg = 'mean'\n",
    "greater = True\n",
    "threshold = 1\n",
    "data_columns = None\n",
    "\n",
    "#intialize KinaseActivity class object\n",
    "## TYPO HERE!! MUST USE 'S', 'T', NOT 'ST'.\n",
    "# kinact = calculate.KinaseActivity(experiment, activity_log, data_columns = data_columns, phospho_type=['Y', 'S', 'T'])   ## TYPO HERE!! MUST USE 'S', 'T', NOT 'ST'.\n",
    "#convert evidence into binary evidence based on the provided threshold\n",
    "# evidence_binary = kinact.create_binary_evidence(agg = agg, threshold = threshold,  greater = greater)\n",
    "\n",
    "# data_cols = [col for col in evidence_binary.columns if 'data:' in col]\n",
    "# evidence_binary[data_cols].sum()\n",
    "\n",
    "\n",
    "#Create activity log: if already did this, ignore.\n",
    "if not os.path.exists(f\"{odir}/RESULTS\"):\n",
    "    os.mkdir(f\"{odir}/RESULTS\")\n",
    "activity_log = helpers.get_logger(f\"activity_{logName}\", f\"{odir}/RESULTS/activity_{logName}.log\")\n",
    "\n",
    "kinact_dict = calculate.enrichment_analysis(experiment, activity_log, networks, phospho_types = phospho_types,\n",
    "                                                agg =agg, threshold = threshold,\n",
    "                                                greater = greater, PROCESSES = 4)\n",
    "\n",
    "#Set the number of random experiments\n",
    "num_random_experiments = 150\n",
    "#Generate random experiments\n",
    "calculate.randomized_analysis(kinact_dict, activity_log, num_random_experiments, PROCESSES = 4)\n",
    "\n",
    "calculate.Mann_Whitney_analysis(kinact_dict, activity_log, number_sig_trials = 100, PROCESSES = 4)\n",
    "\n",
    "activities = kinact_dict['ST'].activities_mann_whitney.copy()\n",
    "log_results = -np.log10(activities)\n",
    "activities = activities[['data:Early_and_G_vs_Parental_and_none',\n",
    "                         'data:Late_and_G_vs_Parental_and_none',\n",
    "                         'data:Early_and_GD_vs_Parental_and_none',\n",
    "                         'data:Late_and_GD_vs_Parental_and_none',\n",
    "                         'data:Early_and_GV_vs_Parental_and_none',\n",
    "                         'data:Late_and_GV_vs_Parental_and_none',\n",
    "                         'data:Early_and_GVD_vs_Parental_and_none',\n",
    "                         'data:Late_and_GVD_vs_Parental_and_none']]\n",
    "fpr = kinact_dict['ST'].fpr_mann_whitney.copy()\n",
    "\n",
    "for col in activities.columns:\n",
    "    activities[col + \"_fdr\"] = fpr[col]\n",
    "\n",
    "activities.to_csv(\"PhosphoPICK_KSTAR_ST_all_kinase_activity_positive1.txt\", sep = \"\\t\")"
   ]
  },
  {
   "cell_type": "markdown",
   "metadata": {},
   "source": [
    "20 networks, kinase size 50. KDSB"
   ]
  },
  {
   "cell_type": "code",
   "execution_count": 1,
   "metadata": {},
   "outputs": [],
   "source": [
    "import pandas as pd\n",
    "import numpy as np\n",
    "import pickle\n",
    "import glob\n",
    "import os\n",
    "import re\n",
    "\n",
    "from kstar import config, helpers, mapping, calculate\n",
    "\n",
    "#define the directory where mapped dataset and run information will be saved.\n",
    "odir = '.'\n",
    "#if directory doesn't exist yet, create it\n",
    "if not os.path.exists(f\"{odir}/MAPPED_DATA\"):\n",
    "    os.mkdir(f\"{odir}/MAPPED_DATA\")\n",
    "\n",
    "#Define the log name\n",
    "logName = 'exp_18_cells_sigs'\n",
    "#intialize logger\n",
    "mapping_log = helpers.get_logger(f\"mapping_{logName}\", f\"{odir}/MAPPED_DATA/mapping_{logName}.log\")\n",
    "\n",
    "mapDict = {'peptide':'Peptide_kstar', 'accession_id':'Protein_kstar'}\n",
    "phospho_data = pd.read_csv(\"..\\comparisons\\\\treatments_vs_parental\\Tables\\KSTAR_full_input_sigs.txt\", sep = \"\\t\")\n",
    "\n",
    "exp_mapper = mapping.ExperimentMapper(experiment = phospho_data,\n",
    "                                      columns = mapDict,\n",
    "                                      logger = mapping_log)\n",
    "#save mapped dataset\n",
    "exp_mapper.experiment.to_csv(f\"{odir}/MAPPED_DATA/{logName}_mapped.tsv\", sep = '\\t', index = False)\n",
    "\n",
    "#Name\n",
    "logName_new = logName + '_Y,ST'\n",
    "#if directory does not exits, create it\n",
    "if not os.path.exists(f\"{odir}/RESULTS\"):\n",
    "    os.mkdir(f\"{odir}/RESULTS\")\n",
    "#intialize log file\n",
    "activity_log = helpers.get_logger(f\"activity_{logName_new}\", f\"{odir}/RESULTS/activity_{logName_new}.log\")\n",
    "\n",
    "experiment = pd.read_csv(f'{odir}/MAPPED_DATA/{logName}_mapped.tsv', sep = '\\t', index_col = 0)\n",
    "\n",
    "#Load the pickles containing the 50 pruned networks for tyrosine kinases\n",
    "phospho_types = ['ST'] #running on this type of kinase/substrate network\n",
    "networks = {}\n",
    "# networks['ST'] = pickle.load(open(\".\\PRUNED NETWORKS\\PhosphoPICK\\PhsphoPICK_pruning_ST_compendia_2000_limit_10.p\", \"rb\"))\n",
    "networks['ST'] = pickle.load(open(\".\\PRUNED NETWORKS\\KSDB\\KSDB_pruning_ST_50_limit_15.p\", \"rb\"))"
   ]
  },
  {
   "cell_type": "code",
   "execution_count": 2,
   "metadata": {},
   "outputs": [
    {
     "name": "stderr",
     "output_type": "stream",
     "text": [
      "c:\\Users\\poss982\\Anaconda3\\envs\\KSTAR\\lib\\site-packages\\kstar\\calculate.py:138: FutureWarning: The default value of numeric_only in DataFrameGroupBy.mean is deprecated. In a future version, numeric_only will default to False. Either specify numeric_only or select only columns which should be valid for the function.\n",
      "  evidence = self.evidence.groupby([config.KSTAR_ACCESSION, config.KSTAR_SITE]).agg(self.aggregate).reset_index()\n",
      "c:\\Users\\poss982\\Anaconda3\\envs\\KSTAR\\lib\\site-packages\\kstar\\calculate.py:454: FutureWarning: The default value of numeric_only in DataFrameGroupBy.mean is deprecated. In a future version, numeric_only will default to False. Either specify numeric_only or select only columns which should be valid for the function.\n",
      "  evidence = self.evidence.groupby([config.KSTAR_ACCESSION, config.KSTAR_SITE]).agg(agg).reset_index()\n"
     ]
    }
   ],
   "source": [
    "agg = 'mean'\n",
    "greater = True\n",
    "threshold = 1\n",
    "data_columns = None\n",
    "\n",
    "#Create activity log: if already did this, ignore.\n",
    "if not os.path.exists(f\"{odir}/RESULTS\"):\n",
    "    os.mkdir(f\"{odir}/RESULTS\")\n",
    "activity_log = helpers.get_logger(f\"activity_{logName}\", f\"{odir}/RESULTS/activity_{logName}.log\")\n",
    "\n",
    "kinact_dict = calculate.enrichment_analysis(experiment, activity_log, networks, phospho_types = phospho_types,\n",
    "                                                agg =agg, threshold = threshold,\n",
    "                                                greater = greater, PROCESSES = 4)\n",
    "\n",
    "#Set the number of random experiments\n",
    "num_random_experiments = 150\n",
    "#Generate random experiments\n",
    "calculate.randomized_analysis(kinact_dict, activity_log, num_random_experiments, PROCESSES = 4)\n",
    "\n",
    "calculate.Mann_Whitney_analysis(kinact_dict, activity_log, number_sig_trials = 100, PROCESSES = 4)\n",
    "\n",
    "activities = kinact_dict['ST'].activities_mann_whitney.copy()\n",
    "log_results = -np.log10(activities)\n",
    "activities = activities[['data:Early_and_G_vs_Parental_and_none',\n",
    "                         'data:Late_and_G_vs_Parental_and_none',\n",
    "                         'data:Early_and_GD_vs_Parental_and_none',\n",
    "                         'data:Late_and_GD_vs_Parental_and_none',\n",
    "                         'data:Early_and_GV_vs_Parental_and_none',\n",
    "                         'data:Late_and_GV_vs_Parental_and_none',\n",
    "                         'data:Early_and_GVD_vs_Parental_and_none',\n",
    "                         'data:Late_and_GVD_vs_Parental_and_none']]\n",
    "fpr = kinact_dict['ST'].fpr_mann_whitney.copy()\n",
    "\n",
    "for col in activities.columns:\n",
    "    activities[col + \"_fdr\"] = fpr[col]\n",
    "\n",
    "activities.to_csv(\"KSDB_KSTAR_ST_20net_sigs_kinase_activity_positive1.txt\", sep = \"\\t\")"
   ]
  },
  {
   "cell_type": "code",
   "execution_count": 3,
   "metadata": {},
   "outputs": [
    {
     "name": "stderr",
     "output_type": "stream",
     "text": [
      "c:\\Users\\poss982\\Anaconda3\\envs\\KSTAR\\lib\\site-packages\\kstar\\calculate.py:138: FutureWarning: The default value of numeric_only in DataFrameGroupBy.mean is deprecated. In a future version, numeric_only will default to False. Either specify numeric_only or select only columns which should be valid for the function.\n",
      "  evidence = self.evidence.groupby([config.KSTAR_ACCESSION, config.KSTAR_SITE]).agg(self.aggregate).reset_index()\n",
      "c:\\Users\\poss982\\Anaconda3\\envs\\KSTAR\\lib\\site-packages\\kstar\\calculate.py:454: FutureWarning: The default value of numeric_only in DataFrameGroupBy.mean is deprecated. In a future version, numeric_only will default to False. Either specify numeric_only or select only columns which should be valid for the function.\n",
      "  evidence = self.evidence.groupby([config.KSTAR_ACCESSION, config.KSTAR_SITE]).agg(agg).reset_index()\n"
     ]
    }
   ],
   "source": [
    "agg = 'mean'\n",
    "greater = False\n",
    "threshold = -1\n",
    "data_columns = None\n",
    "\n",
    "#Create activity log: if already did this, ignore.\n",
    "if not os.path.exists(f\"{odir}/RESULTS\"):\n",
    "    os.mkdir(f\"{odir}/RESULTS\")\n",
    "activity_log = helpers.get_logger(f\"activity_{logName}\", f\"{odir}/RESULTS/activity_{logName}.log\")\n",
    "\n",
    "kinact_dict = calculate.enrichment_analysis(experiment, activity_log, networks, phospho_types = phospho_types,\n",
    "                                                agg =agg, threshold = threshold,\n",
    "                                                greater = greater, PROCESSES = 4)\n",
    "\n",
    "#Set the number of random experiments\n",
    "num_random_experiments = 150\n",
    "#Generate random experiments\n",
    "calculate.randomized_analysis(kinact_dict, activity_log, num_random_experiments, PROCESSES = 4)\n",
    "\n",
    "calculate.Mann_Whitney_analysis(kinact_dict, activity_log, number_sig_trials = 100, PROCESSES = 4)\n",
    "\n",
    "activities = kinact_dict['ST'].activities_mann_whitney.copy()\n",
    "log_results = -np.log10(activities)\n",
    "activities = activities[['data:Early_and_G_vs_Parental_and_none',\n",
    "                         'data:Late_and_G_vs_Parental_and_none',\n",
    "                         'data:Early_and_GD_vs_Parental_and_none',\n",
    "                         'data:Late_and_GD_vs_Parental_and_none',\n",
    "                         'data:Early_and_GV_vs_Parental_and_none',\n",
    "                         'data:Late_and_GV_vs_Parental_and_none',\n",
    "                         'data:Early_and_GVD_vs_Parental_and_none',\n",
    "                         'data:Late_and_GVD_vs_Parental_and_none']]\n",
    "fpr = kinact_dict['ST'].fpr_mann_whitney.copy()\n",
    "\n",
    "for col in activities.columns:\n",
    "    activities[col + \"_fdr\"] = fpr[col]\n",
    "\n",
    "activities.to_csv(\"KSDB_KSTAR_ST_20net_sigs_kinase_activity_negative1.txt\", sep = \"\\t\")"
   ]
  }
 ],
 "metadata": {
  "kernelspec": {
   "display_name": "Python 3 (ipykernel)",
   "language": "python",
   "name": "python3"
  },
  "language_info": {
   "codemirror_mode": {
    "name": "ipython",
    "version": 3
   },
   "file_extension": ".py",
   "mimetype": "text/x-python",
   "name": "python",
   "nbconvert_exporter": "python",
   "pygments_lexer": "ipython3",
   "version": "3.11.5"
  },
  "vscode": {
   "interpreter": {
    "hash": "ce2bc10266c3c47c7cd9d6deca157407d280a54876ee692a140d7406b6a0ae9e"
   }
  }
 },
 "nbformat": 4,
 "nbformat_minor": 4
}
